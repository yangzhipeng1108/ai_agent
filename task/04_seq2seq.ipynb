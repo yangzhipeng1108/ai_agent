{
 "cells": [
  {
   "cell_type": "markdown",
   "metadata": {},
   "source": [
    "<center><a href=\"https://www.nvidia.cn/training/\"><img src=\"https://dli-lms.s3.amazonaws.com/assets/general/DLI_Header_White.png\" width=\"400\" height=\"186\" /></a></center>"
   ]
  },
  {
   "cell_type": "markdown",
   "metadata": {
    "tags": []
   },
   "source": [
    "# <font color=\"#76b900\">**4:** 用于 Seq2Seq 的编码器-解码器结构</font>\n",
    "\n",
    "在之前的 notebook 中，我们研究了仅使用编码器的“BERT”类模型适合做的一些任务。亲眼目睹了语言模型的强大能力，但也注意到有一些关键的限制，即单 token 或单段落的推理限制了模型在某些任务中的发挥。零样本分类 pipeline 通过多次查询编码器为每个类生成预测来解决这一问题。在本 notebook 中，我们将把这个模式扩展为一个可以用类似方式生成有序序列的架构组件，并用它生成没有限制的回复。\n",
    "\n",
    "#### **学习目标：**\n",
    "\n",
    "* 了解编码器-解码器模型，这些模型用编码器对静态的上下文（即问题、指令等）进行编码，用解码器预测单词。\n",
    "* 了解用于创建能完成各项任务的大型通用模型的策略。\n",
    "\n",
    "---"
   ]
  },
  {
   "cell_type": "markdown",
   "metadata": {
    "id": "8ii0e8yi-u_v"
   },
   "source": [
    "## 4.1. 机器翻译任务\n",
    "\n",
    "[**机器翻译**](https://huggingface.co/tasks/translation)是一个常用术语，用于描述使用软件自动将一种语言翻译成另一种语言的任务。是的，它的定义可能没有那么严格，但在当今是一项极为重要的任务！\n",
    "\n",
    "> <div><img src=\"imgs/task-translation.png\" width=\"800\"/></div>\n",
    ">\n",
    "> **来源: [Translation Task | HuggingFace](https://huggingface.co/tasks/translation)**\n",
    "\n",
    "在我们可以用大语言模型解决的一系列问题中，它就是一个**序列到序列（seq2seq）**的实例。\n",
    "\n",
    "之前我们了解到，在满足以下条件之一时，类 BERT 的编码器架构可以用来解决简单的问题：\n",
    "\n",
    "* 输入和输出序列的条目数相同时，可通过对每个输入 token 进行预测来求解。\n",
    "* 输出序列是输入序列的子集时，可通过范围预测求解。\n",
    "\n",
    "您也可以创造性的使用这一范式，去掉这个架构的一些硬性限制，但仍会被认为是编码器的衍生。\n",
    "\n",
    "我们经常使用**编码器**这个术语，但您可能还没意识到它为什么这么叫。考虑到自动编码器的逻辑，您可能凭直觉*（合理但并不完全正确的）*认为编码器是根据任务订制的一系列 transformer 块，其输出是一种人类不可读的隐编码。以这种范式理解的话，分类头就是用来生成人类可读输出的“解码器”。\n",
    "\n",
    "这确实很合理，但并不是语言建模社区成员们通常谈论它的方式。\n",
    "\n",
    "* **自动编码器逻辑：**输入样本 $\\to$ 隐式序列 $\\to$ 样本洞察/重建\n",
    "* **语言模型逻辑：**输入段落 $\\to$ 隐式序列 $\\to$ 响应序列\n",
    "\n",
    "根据该逻辑，我们或多或少可以看到，在类似 BERT 的架构中没有自然的**响应**，只有对数据的洞察。当然，洞察的形式或许是能够生成回复的基于输入的概率分布，但我们**并没有在生成新的 token**。\n",
    "\n",
    "**这个时候，就需要解码器了！**"
   ]
  },
  {
   "cell_type": "markdown",
   "metadata": {
    "id": "jiQ0tkJQDbG3"
   },
   "source": [
    "## 4.2. 拉取 T5 模型\n",
    "\n",
    "我们已经提到了哪些任务无法用编码器模型完成，即机器翻译这种 seq2seq 任务，所以我们可以先找一个这类模型，看看它是怎么工作的！当然，我们可以在 HuggingFace 模型库中找到这样一个模型，但这次我们试试从[机器翻译任务页面](https://huggingface.co/tasks/translation)找找看。通过阅读，您会注意到一些建议和概述，还可以看到它提供了 pipeline 支持！事实上，如果您不想的话，甚至不需要指定背后的模型：`transformers` 将为您做出选择（不过现在我们要自己来选）："
   ]
  },
  {
   "cell_type": "code",
   "execution_count": null,
   "metadata": {
    "colab": {
     "base_uri": "https://localhost:8080/",
     "height": 344,
     "referenced_widgets": [
      "a5b3b7a8120a44bdbe6144eb6d1ef3a3",
      "cd0109e8926d4e8f8f7264af1e174c1c",
      "412ae74c61eb49bea9c3658858b50ea9",
      "688beaaf66a34116825763ba491faf22",
      "48f31a3511be4aeab3a3568503898ff2",
      "b2c008e054eb4c3abadf3e7751e195c2",
      "7b80c76e65e241bc9335afb6cb6f76e9",
      "2a85d82c33e04d8b8ab62996afd45a78",
      "ccfb9137b09a4087b169e461c5dc8e0c",
      "8605b133811c409d9046bc666b142ce8",
      "3a26403e3b0d4b19ba96291f985fb41c",
      "9cb6bc84ce3548c88fdfee89ebd16027",
      "1043eede14a046aa9c08fc5310a309ee",
      "c4c9b0a00763411f84251d2bd5ea4be7",
      "41269f96f6e147c9a62b30e050230ae9",
      "acbc3116f8e64e379e8325e1eb23408c",
      "87211ecf012f465ca61576405716f4ae",
      "0f033d878a154a3e9595e2b98748c6a4",
      "c0e882c8aa444dac8965fed6b124366b",
      "e63ab680776747a9a37b1ae573da522d",
      "df520fb7f428449dbcc76a7950656ebe",
      "9f4130da5490446a9db325bf624360ec",
      "ad71c7b089574e9f97b341131cdd7735",
      "c492bf8ffe9e4823878f836fe63c081e",
      "f108e13198ce4b979503bfde278a6040",
      "88e90d2702c94304955179e36e189d6a",
      "6ab7f00200014e96a5793d996d918dc5",
      "337a2cb3aaff41ee87246e4f1ba23826",
      "0dc8b4f1b3f846a2870bacf7e475c875",
      "90e353a41cf342bab3f56d754fa6917d",
      "f526829ec1d345c38cc55c47b0a687d5",
      "9f15ecb854e84457b4581199f4286b31",
      "c44bae85439242da81b09de25e3dd6a9",
      "5ca5fe70f60542bab3fcb8cd63a32596",
      "e822f482c82e45888cdea1043f0b946f",
      "cac4e777e034464abbc7601f6c3e05bc",
      "e933e87300a3461c86338eb6e7e4b152",
      "dac3d16efe2a464db37e98f5d091193c",
      "fdd4ca3271354bfe86245737ca650e22",
      "1e779860fad44264b25b1d0ccfcdb5c3",
      "d08ac1efa02443ac84151ce2ba3d54c0",
      "93a6593a6f5d48fa82492cc964574063",
      "d88d2802236846359d6d3f9b1fa68fa9",
      "b05fb3775acf47d894871a3f95fe2fd6",
      "9e9b6b8c170041bda5231cade5e11d48",
      "4b699788e93e4b5281f550ee78ed0ddd",
      "de23c16f531c4d17bf5d8a1b82880183",
      "fe545047949445b291f79d0c8a0cab4b",
      "625fbcb95f1241f2a528025115cccb23",
      "a67f39d8379d4024957c8cd5dacbe5cb",
      "b6f917a0813343aea573d1488ebc7b14",
      "ece679963bed4fffa680647163d1f37d",
      "0afbfc6656cc4805a588fcc77b29ac45",
      "0c7af8fb4cb04ffd8b67be6bff90f53a",
      "07c61f5fa45842e19156067d4055c0bb"
     ]
    },
    "executionInfo": {
     "elapsed": 37923,
     "status": "ok",
     "timestamp": 1694463155452,
     "user": {
      "displayName": "Vadim Kudlay",
      "userId": "00553664172613290122"
     },
     "user_tz": 300
    },
    "id": "NzM4kxtk-uMO",
    "outputId": "9c283cab-592e-4a46-8a3f-08841bb4379e",
    "tags": []
   },
   "outputs": [],
   "source": [
    "from transformers import pipeline\n",
    "\n",
    "translator = pipeline('translation_en_to_fr', model='t5-base')\n",
    "translator(\"Hello World! How's it going?\")"
   ]
  },
  {
   "cell_type": "markdown",
   "metadata": {
    "id": "SQPlY5-_Xi1P"
   },
   "source": [
    "我只想说：“哇！它真的管用！你能相信它起作用了么？”，但实际上这已经是可以预见的了。您已经开始预期大语言模型可以在很多任务上给出很好的结果，如果您之前用过 Google 翻译，那这或许并不那么令人惊讶。但看到它仅需要这么少的参数就能完成任务还是很令人欣慰的：\n",
    "\n",
    "```python\n",
    "(\n",
    "    translator.model.name_or_path,     ## 't5-base'\n",
    "    translator.model.num_parameters()  ## 222,903,552\n",
    ")\n",
    "```\n",
    "\n",
    "接下来，我们来详细了解一下这个 pipeline："
   ]
  },
  {
   "cell_type": "code",
   "execution_count": null,
   "metadata": {
    "colab": {
     "base_uri": "https://localhost:8080/"
    },
    "executionInfo": {
     "elapsed": 1468,
     "status": "ok",
     "timestamp": 1694463156899,
     "user": {
      "displayName": "Vadim Kudlay",
      "userId": "00553664172613290122"
     },
     "user_tz": 300
    },
    "id": "eKS8JpQQVAOi",
    "outputId": "be756a07-d894-4e4f-d8fe-a5c3f7db774c",
    "tags": []
   },
   "outputs": [],
   "source": [
    "text_en = \"Hello World! How's it going?\"\n",
    "resp_fr = translator(\"Hello World! How's it going?\")\n",
    "text_fr = resp_fr[0]['translation_text']\n",
    "\n",
    "tok = translator.tokenizer\n",
    "tokens_ins = [tok.decode(x) for x in tok.encode(text_en)]\n",
    "tokens_out = [tok.decode(x) for x in tok.encode(text_fr)]\n",
    "print(f\"Inputs of length {len(tokens_ins)}: {' | '.join(tokens_ins)}\")\n",
    "print(f\"Output of length {len(tokens_out)}: {' | '.join(tokens_out)}\")"
   ]
  },
  {
   "cell_type": "markdown",
   "metadata": {
    "id": "O6uLZHBkZBM5"
   },
   "source": [
    "您可能会注意到以下几个有趣的结果：\n",
    "\n",
    "* 从表面上看，您可能会注意到一个新的 `</s>` token。这定义了一些关于数据长度的信息，在训练的时候是必须带上的。\n",
    "* 更特别的是 **token 的数量不匹配！**输入中有 10 个 token，但输出中有 13 个，这是怎么做到的？\n",
    "\n",
    "除了您指定的输入之外，pipeline 可能还拿到了一些其它东西。 `preprocess` 的输出直接输入到了 `model.forward`，我们来看看具体发生了什么："
   ]
  },
  {
   "cell_type": "code",
   "execution_count": null,
   "metadata": {
    "colab": {
     "base_uri": "https://localhost:8080/",
     "height": 50
    },
    "executionInfo": {
     "elapsed": 397,
     "status": "ok",
     "timestamp": 1694463157279,
     "user": {
      "displayName": "Vadim Kudlay",
      "userId": "00553664172613290122"
     },
     "user_tz": 300
    },
    "id": "62uVwnUmWu-I",
    "outputId": "d9133fb8-6c13-4848-c773-0871a3cfebee",
    "tags": []
   },
   "outputs": [],
   "source": [
    "prep = translator.preprocess\n",
    "tokens_in2 = [tok.decode(x) for x in prep(text_en)['input_ids'][0]]\n",
    "print(f\"Model Inputs of length {len(tokens_in2)}: {' | '.join(tokens_in2)}\")\n",
    "tok.decode(prep(text_en)['input_ids'][0])"
   ]
  },
  {
   "cell_type": "markdown",
   "metadata": {
    "id": "l8XwBQoCgAtn"
   },
   "source": [
    "好的！模型实际上输入了更多的 token，开头的部分实际上是一条指令。所以这是怎么回事？为了弄清楚，我们来深入了解一下模型架构。"
   ]
  },
  {
   "cell_type": "markdown",
   "metadata": {
    "id": "rRxNhTOugePb"
   },
   "source": [
    "## 4.3. 解释 T5 架构\n",
    "\n",
    "让我们继续调查模型，看看能不能搞清楚发生了什么！您可以试试以下操作：\n",
    "\n",
    "```python\n",
    "translator.model           ## See that there's a lot of stuff going on here\n",
    "translator.model.encoder   ## See that this looks a lot like the BERT model\n",
    "translator.model.decoder   ## See that this looks roughly the same and wonder what changed\n",
    "```\n",
    "\n",
    "但这将产生大量文本，有点难以阅读。既然这样，我们试试用更精简的图表格式将其可视化。下面的内容很重要，其中箭头表示了它们实际上是如何连接的。\n",
    "\n",
    "> **注意：**在模型架构的打印输出中，编码器和解码器的第 0 个 transformer 层与第 1 至第 11 个 transformer 是分开显示的。这是由于 T5 纳入了[相对位置编码](https://paperswithcode.com/method/relative-position-encodings)，尽管在整个架构中都存在，但只在第 0 层作为一个单独的组件出现。您可以忽略这一区别。\n"
   ]
  },
  {
   "cell_type": "markdown",
   "metadata": {
    "id": "XBM955c8hW97"
   },
   "source": [
    "<div><img src=\"imgs/t5-architecture.png\" \n",
    "     alt=\"Encoder-Decoder Architecture\"\n",
    "     width=\"1200\"/></div>"
   ]
  },
  {
   "cell_type": "markdown",
   "metadata": {
    "id": "nv6i5V5vgSKY"
   },
   "source": [
    "**有两个直观的区别：**\n",
    "\n",
    "* 解码器其实是一个针对特定任务训练过的编码器，这个任务是：**给定输入序列，生成序列中的下一个 token**。在编码器-解码器架构中，模型通常从输入一个起始 token 开始（即 `<s>`），然后一次生成一个 token，直到字符串结束 token 出现（即 `</s>`）。（*实际上*它不仅仅只是一个编码器，不过具体的细节对本课程来说并不关键）\n",
    "* 编码器-解码器架构允许将一些中间值注入到解码器的注意力机制中。这就叫交叉注意力，与自注意力遵循完全相同的逻辑：**用于向模型输入上下文信息的轻量级接口**。\n",
    "\n",
    "> **数学运算原理：**假设您有来自编码器的 querys/values $K_{1..m}$/$V_{1..m}$，和来自解码器的 key $Q_{1..n}$。\n",
    "\n",
    "> * 如果 $K_i$ 和 $Q_i$ 有相同的嵌入维度，那么 $Q_iK_i^T$ 就是一个 $n\\times m$ 维的矩阵，做 softmax 之后也是如此。换言之：\n",
    " $$\\text{Attention}(K_{1..m}, Q_{1..n}) \\text{ 的维度是 } n\\times m$$\n",
    "\n",
    "> * 既然 $V_{1..m}$ 与 $n\\times m$ 的注意力矩阵是乘法相容的：\n",
    "$$\\text{Attention}(K_{1..m}，Q_{1..n}) \\times V_{1..m} \\text { 是 } n\\times d \\text{ 的，} d \\text{ 代表 } V_i \\text{ 的维度 }$$ \n",
    "\n",
    "> * 所以，我们仅通过注意力机制，就将 $m$ 个元素的序列作为了 $n$ 个元素序列的上下文！重复多次，就拥有了基于上下文的强大生成能力。\n",
    "\n",
    "最终就得到了一个有以下两个关键功能的架构：\n",
    "\n",
    "* 通过解码器架构自回归的一个接一个的生成 token，每个新生成的 token 都被加入用于预测后续 token 的输入中。\n",
    "* 频繁的将上下文信息从编码器注入解码器，确保生成的内容与总体目标保持一致。"
   ]
  },
  {
   "cell_type": "markdown",
   "metadata": {
    "id": "qpwsBjgUmDh0"
   },
   "source": [
    "### 观察 Token 生成的实际过程\n",
    "\n",
    "现在我们大致了解了模型的工作原理，接下来探索一下可以用它做什么，看看它实际上是如何工作的。之前，我们看到了经典的英语到法语翻译任务，这个任务包含一些众所周知的很好的数据集，并且长期以来一直是 NLP 社区的重头戏。正如我们在深入代码时看到的，翻译任务的 pipeline 实际上只是向编码器输入加入了一句提示词作为条件，来告诉模型该做什么，但我们可以通过调用 `text2text-generation` pipeline 获得更通用的能力。这样一来我们就能完全控制上下文，可以让模型做些其它任务试试了。"
   ]
  },
  {
   "cell_type": "code",
   "execution_count": null,
   "metadata": {
    "colab": {
     "base_uri": "https://localhost:8080/"
    },
    "executionInfo": {
     "elapsed": 17720,
     "status": "ok",
     "timestamp": 1694555435730,
     "user": {
      "displayName": "Vadim Kudlay",
      "userId": "00553664172613290122"
     },
     "user_tz": 300
    },
    "id": "qrDIvcsjM8nU",
    "outputId": "bb5b2d4d-92d2-4144-e734-db6dedf33995",
    "tags": []
   },
   "outputs": [],
   "source": [
    "from transformers import pipeline\n",
    "\n",
    "t5_pipe = pipeline(\"text2text-generation\", model=\"t5-base\")\n",
    "t5_pipe(\"translate English to German: Hello world, and welcome to my notebook!\")"
   ]
  },
  {
   "cell_type": "markdown",
   "metadata": {
    "id": "Wt2nit3SSj-k"
   },
   "source": [
    "首先来验证一下我们之前关于解码器的描述是否正确。能不能确认这个模型的回复是由一个一个的 token 构成的？我们可以阅读源代码，也可以通过插入一个回调函数，来观察进入编码器和解码器前向过程的内容以及它们被调用的顺序。"
   ]
  },
  {
   "cell_type": "code",
   "execution_count": null,
   "metadata": {
    "colab": {
     "base_uri": "https://localhost:8080/"
    },
    "executionInfo": {
     "elapsed": 3001,
     "status": "ok",
     "timestamp": 1694559961494,
     "user": {
      "displayName": "Vadim Kudlay",
      "userId": "00553664172613290122"
     },
     "user_tz": 300
    },
    "id": "t7xNK2PVS4iZ",
    "outputId": "5db28aaa-71d8-4745-b6a3-a510407e35f5",
    "tags": []
   },
   "outputs": [],
   "source": [
    "from extras_and_licenses.forward_listener import ForwardListener\n",
    "\n",
    "t5_pipe.model.encoder.forward = ForwardListener(t5_pipe.model.encoder, name='encoder', tokenizer=t5_pipe.tokenizer)\n",
    "t5_pipe.model.decoder.forward = ForwardListener(t5_pipe.model.decoder, name='decoder', tokenizer=t5_pipe.tokenizer)\n",
    "t5_pipe(\"translate English to German: Hello world!!\")"
   ]
  },
  {
   "cell_type": "code",
   "execution_count": 6,
   "metadata": {
    "executionInfo": {
     "elapsed": 215,
     "status": "ok",
     "timestamp": 1694558736433,
     "user": {
      "displayName": "Vadim Kudlay",
      "userId": "00553664172613290122"
     },
     "user_tz": 300
    },
    "id": "Nl-2Yb5IDGq2",
    "tags": []
   },
   "outputs": [],
   "source": [
    "ForwardListener.clear_all()"
   ]
  },
  {
   "cell_type": "markdown",
   "metadata": {
    "id": "jutSkNO3sa1i"
   },
   "source": [
    "**我们会观察到一些关键的信息：**\n",
    "\n",
    "* 编码器在处理输入上被调用了一次，给出了可供解码器使用的表示。在大多数模型中，编码器状态只需要计算一次就可以提供良好的上下文语境，这个静态的上下文信息就可以用来引导解码器。\n",
    "\t+ 这有助于避免“目标偏移（moving target）”问题，能够提高训练期间的稳定性。\n",
    "* 解码器被要求一次生成一个 token，其中第一个 token 由起始 token 生成（在本例中是 `<pad>`）。第一次迭代完全取决于编码器的输出，而后续的 token 则共同取决于输入的编码和生成的历史。正如我们之前看到的，当标志着字符串结束的 token（即 `</s>`）被计算出来时，生成过程就停止了。\n",
    "\t+ 您可能还会注意到，解码器一次仅接收一个词。高效的实现会把之前生成过程的计算结果存下来，因为前几次迭代的 key-value 计算可以和新 token 的计算结果一块存储。您可以在 `past_key_values` 中看到它存储着前几次迭代的注意力组件，并随着生成过程不断增大。"
   ]
  },
  {
   "cell_type": "markdown",
   "metadata": {
    "id": "1rqAQVZDu1hN"
   },
   "source": [
    "## 4.4. 用 T5 试验\n",
    "\n",
    "现在我们已经了解了模型的定义方式及其作用，让我们稍微调整一下模型，看看还能做点什么！\n",
    "\n",
    "回想一下，T5 模型经过各种任务的训练，其中一部分在下图中展示了出来：\n",
    "\n",
    "> <div><img src=\"imgs/t5-pic.jpg\" width=\"800\"/></div>\n",
    ">\n",
    "> **来源: [Exploring the Limits of Transfer Learning with a Unified Text-to-Text Transformer](https://arxiv.org/abs/1910.10683v4)**\n",
    "\n",
    "当然，这只是我们可以参考的一部分任务，更详细的信息可以在这篇文章中找到：[Exploring the Limits of Transfer Learning with a Unified Text-to-Text Transformer](https://arxiv.org/abs/1910.10683v3)。但我们可以从这开始，来试试吧！\n",
    "\n",
    "为了避免浪费太多时间，应该提醒您 `t5-base` 可能无法达到理想的效果。而 `t5-large` 模型有更多的参数，需要更多的数据来训练，但仍然在我们的计算资源范围内，所以我们可以直接加载这个更大的模型："
   ]
  },
  {
   "cell_type": "code",
   "execution_count": null,
   "metadata": {
    "colab": {
     "base_uri": "https://localhost:8080/"
    },
    "executionInfo": {
     "elapsed": 29529,
     "status": "ok",
     "timestamp": 1694465899454,
     "user": {
      "displayName": "Vadim Kudlay",
      "userId": "00553664172613290122"
     },
     "user_tz": 300
    },
    "id": "0eDxPDtKDTaT",
    "outputId": "7eab51c3-eeb8-4247-8b32-6cf8dc73b941",
    "tags": []
   },
   "outputs": [],
   "source": [
    "from transformers import pipeline\n",
    "\n",
    "## T5-Large performs better and has reasonably-fast inference, so we can safely default to it\n",
    "t5_pipe_base = t5_pipe\n",
    "t5_pipe_large = pipeline(\"text2text-generation\", model=\"t5-large\")\n",
    "\n",
    "print(f\"\"\"\n",
    "t5-base:\n",
    " - model size: {t5_pipe_base.model.num_parameters():,} parameters\n",
    " - memory footprint: {t5_pipe_base.model.get_memory_footprint()/1e9 :.03f} GB\n",
    "\n",
    "t5-large:\n",
    " - model size: {t5_pipe_large.model.num_parameters():,} parameters\n",
    " - memory footprint: {t5_pipe_large.model.get_memory_footprint()/1e9 :.03f} GB\n",
    "\"\"\")"
   ]
  },
  {
   "cell_type": "code",
   "execution_count": null,
   "metadata": {
    "colab": {
     "base_uri": "https://localhost:8080/"
    },
    "executionInfo": {
     "elapsed": 10458,
     "status": "ok",
     "timestamp": 1694463381731,
     "user": {
      "displayName": "Vadim Kudlay",
      "userId": "00553664172613290122"
     },
     "user_tz": 300
    },
    "id": "ftgXGL34E48A",
    "outputId": "5478f59f-79d1-45a4-aa8c-3ffc48ee9f06",
    "tags": []
   },
   "outputs": [],
   "source": [
    "queries = [\n",
    "    \"translate English to Spanish: This is good!\",\n",
    "    \"cola sentence: The course is jumping well!\",\n",
    "    \"stsb sentence1: The rhino grazed on the grass. sentence2: A rhino is grazing in a field.\",\n",
    "    ## Summarize entry pulled from https://huggingface.co/docs/transformers/tasks/summarization\n",
    "    \"summarize: The Inflation Reduction Act lowers prescription drug costs, health care costs, and energy costs. It's the most aggressive action on tackling the climate crisis in American history, which will lift up American workers and create good-paying, union jobs across the country. It'll lower the deficit and ask the ultra-wealthy and corporations to pay their fair share. And no one making under $400,000 per year will pay a penny more in taxes.\",\n",
    "    ## TODO: Take a skim through the original T5 paper and pull in some other queries you think might be interesting.\n",
    "    ## Maybe the SQUaD question-answeing, or whatever else catches your eye. Examples of the format are around pages 50-60.\n",
    "]\n",
    "\n",
    "t5_pipe_large(queries)"
   ]
  },
  {
   "cell_type": "markdown",
   "metadata": {
    "id": "m8StGENgExeB"
   },
   "source": [
    "如您所见，它的效果很不错。所以如果输入适当的提示词，它也许能处理任意的任务？我们来试试吧！"
   ]
  },
  {
   "cell_type": "code",
   "execution_count": null,
   "metadata": {
    "colab": {
     "base_uri": "https://localhost:8080/"
    },
    "executionInfo": {
     "elapsed": 11171,
     "status": "ok",
     "timestamp": 1694463392894,
     "user": {
      "displayName": "Vadim Kudlay",
      "userId": "00553664172613290122"
     },
     "user_tz": 300
    },
    "id": "Mkik969tD2Yo",
    "outputId": "a412ee0b-dd49-4ed3-dda2-bb6cdd4037c4",
    "tags": []
   },
   "outputs": [],
   "source": [
    "queries = [\n",
    "    \"translate English to Spanish: This is good!\",\n",
    "    \"continue the sentence: I love walking in \",\n",
    "    \"continue the conversation as a helpful agent: User: Hello! Agent: \",\n",
    "]\n",
    "t5_pipe_large(queries)"
   ]
  },
  {
   "cell_type": "markdown",
   "metadata": {
    "id": "rojBD_vrIlAj"
   },
   "source": [
    "有点意思。但还是不够强大，无法进行足够的推理来理解提示词。它或许只是记住了提示词，然后通过单词表面的相似性学到了一些关键的洞察？\n",
    "\n",
    "也许问题的关键是模型的大小。我们直接跳过了 `t5-base` 模型，因为它在基准任务上表现并不好，或许我们也可以试试比 `t5-large` 模型更大的模型？\n",
    "\n",
    "但遗憾的是，[`t5-xl`（至少是 `google/t5-v1_1-xl` 版本）](https://huggingface.co/google/t5-v1_1-xl)和 [`t5-xxl`](https://huggingface.co/google/flan-t5-xxl) 模型超出了我们的计算资源（我们会在之后的 notebook 里尝试克服这一点）。另外，更大的模型实际上并不能解决这个问题，仅仅是因为标准 T5 的训练任务种类仍然太少了。在这种情况下，比起更大的模型，我们需要的是经过了更通用训练过程的模型。"
   ]
  },
  {
   "cell_type": "markdown",
   "metadata": {
    "id": "yskwADjkx80p"
   },
   "source": [
    "## 4.5. 使用 Flan-T5 进行提示工程\n",
    "\n",
    "在课程里我们介绍了 Flan-T5 模型，尤其提到了它具有更激进的训练目标。具体来说，是让模型经过了足够多的训练强化，来学习如何将输入序列作为生动的自然语言问题来进行推理，以此获得更好的性能。\n",
    "\n",
    "> <div><img src=\"imgs/t5-flan2-spec.jpg\" width=\"1000\"/></div>\n",
    ">\n",
    "> **来源: [Scaling Instruction-Finetuned Language Models](https://arxiv.org/abs/2210.11416v5)**\n",
    "\n",
    "让我们拉取这个模型，看看它能做些什么！"
   ]
  },
  {
   "cell_type": "code",
   "execution_count": null,
   "metadata": {
    "id": "GlKWc88LysEy",
    "tags": []
   },
   "outputs": [],
   "source": [
    "from transformers import pipeline\n",
    "\n",
    "## T5-Large performs better and has reasonably-fast inference, so we can safely default to it\n",
    "flan_t5_pipe = pipeline(\"text2text-generation\", model=\"google/flan-t5-large\")"
   ]
  },
  {
   "cell_type": "code",
   "execution_count": null,
   "metadata": {
    "colab": {
     "base_uri": "https://localhost:8080/"
    },
    "executionInfo": {
     "elapsed": 7091,
     "status": "ok",
     "timestamp": 1694465970159,
     "user": {
      "displayName": "Vadim Kudlay",
      "userId": "00553664172613290122"
     },
     "user_tz": 300
    },
    "id": "T3p7aNrrAEkE",
    "outputId": "be0406f6-ea05-439a-ecda-5791e04358b1",
    "tags": []
   },
   "outputs": [],
   "source": [
    "queries = [\n",
    "    \"translate English to Spanish: This is good!\",\n",
    "    \"continue the sentence: I love walking\",\n",
    "    \"continue the conversation as a helpful agent: User: Hello! Agent: \",\n",
    "]\n",
    "\n",
    "flan_t5_pipe(queries)"
   ]
  },
  {
   "cell_type": "markdown",
   "metadata": {
    "id": "dH48v0hkDLTG"
   },
   "source": [
    "如您所见，它实际上能够遵循更多的指令并能推理出指令的实际含义，这太棒了！事实上，跟这个模型能做的事情相比，我们之前给 `T5` 模型安排的超范围的目标显得相当基础！这种涌现式的现象，即能够仅基于自然语言去推理语境来适应新任务的能力，被称为**上下文学习**，也是使[**提示工程**](https://en.wikipedia.org/wiki/Prompt_engineering)得以实现的新范式。\n",
    "\n",
    "您可能已经听过很多关于**提示工程**的事，其核心就是弄清楚什么样的输入能让训练好的模型达到最佳的表现。实际应用中，以下的经验通常很管用：\n",
    "\n",
    "* **格式遵循（Format Abiding）：**想想模型是怎么训练的，训练过程的输入一般都是什么格式。任务形式越接近，执行效果就越好。\n",
    "* **少样本提示（Few-Shot Prompting）：**由于训练数据的关系，模型倾向于处理重复的模式，因此给一些例子可能是个好主意。这被称单样本或少样本提示，指的就是在推理时，给模型一个或几个表现良好的示例，看看模型会不会遵从这个模式。\n",
    "* **迭代试错（Iterative Trial-And-Error）：**如果模型可以理解并遵循您的指令（例如经过了指令微调），您还可以通过继续更新提示来纠正模型的不理想行为。每个模型的这个过程可能很不一样，有些模型很擅长遵循指令，有些则不太擅长，有些则无法偏离训练任务类型去完成另外一项任务。\n",
    "* **启动（Priming）：**除了给出“指令”，您还可以将回复内容的开头直接输给解码器，让它接着往下生成。这是一种绕过默认行为的很好的方式（结果或好或坏），不过默认的编码器-解码器架构可能并不支持这种行为。\n",
    "\n",
    "了解了这些，看看您可以用这个模型做些什么，可以通过下面的任务再熟悉一下它的能力："
   ]
  },
  {
   "cell_type": "markdown",
   "metadata": {
    "id": "TqWM-O1IDtn8"
   },
   "source": [
    "### **任务 1：按预期执行**\n",
    "\n",
    "向网络提问，看看它能做什么。您可以用冒号来分开任务和正文，也可以跟模型直接交流。下面是一些有启发性的例子，也可以用你自己的想法来试试！"
   ]
  },
  {
   "cell_type": "code",
   "execution_count": 22,
   "metadata": {
    "colab": {
     "base_uri": "https://localhost:8080/"
    },
    "executionInfo": {
     "elapsed": 2106,
     "status": "ok",
     "timestamp": 1694468796711,
     "user": {
      "displayName": "Vadim Kudlay",
      "userId": "00553664172613290122"
     },
     "user_tz": 300
    },
    "id": "IOT-N0BaDzop",
    "outputId": "a9063e6a-87da-4a31-d342-22d5b238af76"
   },
   "outputs": [],
   "source": [
    "# flan_t5_pipe(\"Can you tell me about how sandwiches are made?\")\n",
    "# flan_t5_pipe(\"Is this a true sentence: You can make fire by rubbing two sticks together very quickly\")\n",
    "# flan_t5_pipe(\"How do you say 'when in Rome...' in french?\")\n",
    "# flan_t5_pipe(\"Identify the noun with negative sentiment: I love pizza with pineapple, but adding pickles to it is just too much\")\n",
    "# flan_t5_pipe(\"Translate english to pig latin: Hello world and all who live in it!\") ## will fail"
   ]
  },
  {
   "cell_type": "markdown",
   "metadata": {
    "id": "nvQ2lsaCI6Sc"
   },
   "source": [
    "现在，还用这几个指令，不过直接询问模型。看会不会影响它完成任务，或许它能适应的比较好。当它没法完成任务时，看看你能不能把它修好。\n",
    "\n",
    "**提示：**\n",
    "* 如果需要的话，您可以考虑给模型正确执行的示例。这就是少样本提示，您在告诉它应该如何表现。\n",
    "* 对于 Pig Latin 任务，除非您真的很走运，否则是不可能实现的。这个任务需要以不自然的语义形式进行字母级的推理，因此您的所有提示工程尝试可能都会失败。"
   ]
  },
  {
   "cell_type": "code",
   "execution_count": null,
   "metadata": {
    "colab": {
     "base_uri": "https://localhost:8080/"
    },
    "executionInfo": {
     "elapsed": 8362,
     "status": "ok",
     "timestamp": 1694468811050,
     "user": {
      "displayName": "Vadim Kudlay",
      "userId": "00553664172613290122"
     },
     "user_tz": 300
    },
    "id": "xAqloalAKUSj",
    "outputId": "062368db-3180-4c23-e40d-15880ae4dca7"
   },
   "outputs": [],
   "source": [
    "## Example of few-shot prompting. Will still fail though, due to the above reason\n",
    "'''\n",
    "flan_t5_pipe(\"\"\"\n",
    "Translate english to pig latin.\n",
    "English: Look in the bag!\n",
    "Pig Latin: Ooklay in the agbay!\n",
    "English: Hello world and all who live in it!\n",
    "Pig Latin: \"\"\")\n",
    "'''\n",
    "\n",
    "# flan_t5_pipe(\"Answer the question like a dictionary: Can you tell me about how sandwiches are made?\")\n",
    "# flan_t5_pipe(\"Is the sentence 'You can make fire by rubbing two sticks together very quickly' true? Please explain\")"
   ]
  },
  {
   "cell_type": "markdown",
   "metadata": {
    "id": "wzEPl9jRLbHI"
   },
   "source": [
    "注意，对于 Pig Latin 任务，您可能无法让它成功。这可能与分词策略有关：虽然它理应能表示 Pig Latin，但在未经特殊微调的情况下，这个任务还是有点超范围了。"
   ]
  },
  {
   "cell_type": "markdown",
   "metadata": {
    "id": "lhgYHXyiHAXG"
   },
   "source": [
    "### **任务 2：引发幻觉问题**\n",
    "\n",
    "询问模型不知道的问题时，您有没有注意到模型产生了幻觉（Hallucination）？您认为应该怎么解决这些问题？"
   ]
  },
  {
   "cell_type": "code",
   "execution_count": 31,
   "metadata": {
    "colab": {
     "base_uri": "https://localhost:8080/"
    },
    "executionInfo": {
     "elapsed": 3468,
     "status": "ok",
     "timestamp": 1694468864987,
     "user": {
      "displayName": "Vadim Kudlay",
      "userId": "00553664172613290122"
     },
     "user_tz": 300
    },
    "id": "_ogsfMYWHDjA",
    "outputId": "c01fd48d-2407-4887-dcf3-9f9d57874293"
   },
   "outputs": [],
   "source": [
    "# flan_t5_pipe(\"What is my name?\")\n",
    "# flan_t5_pipe(\"Who are you?\")\n",
    "# flan_t5_pipe(\"How do you know my name?\")\n",
    "# flan_t5_pipe(\"Where do you work?\")\n",
    "# flan_t5_pipe(\"Answer the question honestly: Who are you?\")"
   ]
  },
  {
   "cell_type": "markdown",
   "metadata": {
    "id": "rXB3_d3mIJ8d"
   },
   "source": [
    "### **任务 3：开始聊天**\n",
    "\n",
    "让模型与顾客聊天，看看它都能做些什么。挑战一下，看看您能不能把模型弄坏。或者尝试在模型中输入更多内容，看它能输出些什么！"
   ]
  },
  {
   "cell_type": "code",
   "execution_count": null,
   "metadata": {
    "colab": {
     "base_uri": "https://localhost:8080/"
    },
    "executionInfo": {
     "elapsed": 3936,
     "status": "ok",
     "timestamp": 1694468893839,
     "user": {
      "displayName": "Vadim Kudlay",
      "userId": "00553664172613290122"
     },
     "user_tz": 300
    },
    "id": "1g65ANWKIZxN",
    "outputId": "074245e4-20a0-4473-b537-314b02451faf"
   },
   "outputs": [],
   "source": [
    "## Challenge: Try to break the model by introducing an inconsistency.\n",
    "## - Possible option: Make the role \"Human\" instead of \"Customer\"\n",
    "## - Possible option: See if you can get the model to behave awkwardly by only changing the user input\n",
    "\n",
    "''' # Example\n",
    "flan_t5_pipe(\"\"\"\n",
    "You are a friendly chat agent who is helping a customer.\n",
    "You are supposed to be nice and helpful, and tried to answer in detail.\n",
    "If you do not know something, say \"I don't know\". Do not lie!\n",
    "Customer: Hello! How's it going? Who are you?\n",
    "Agent: \"\"\")\n",
    "'''\n",
    "\n",
    "## Example of breaking the model\n",
    "flan_t5_pipe(\"\"\"\n",
    "You are a friendly chat agent who is helping a customer.\n",
    "You are supposed to be nice and helpful, and tried to answer in detail.\n",
    "If you do not know something, say \"I don't know\". Do not lie!\n",
    "Human: Hello! How's it going? Who are you?\n",
    "Agent: \"\"\")"
   ]
  },
  {
   "cell_type": "markdown",
   "metadata": {
    "id": "P-EfMhrrqI6i"
   },
   "source": [
    "## 4.6. **总结：**技术回顾\n",
    "\n",
    "现在，我们已经看到了语言模型是如何通过将语言编码作为语境来生成全新文本的。这开辟了许多新的可能性，也留下了许多尚未解决的问题，但至少我们现在已经处于前沿了，能用有限的算力完成一些非常强大的任务！下一节，我们将看到编码器-解码器真正发挥作用的地方：**多模态生成**。再之后，我们将讨论对解码器来说更适合的任务：**文本生成**。"
   ]
  },
  {
   "cell_type": "code",
   "execution_count": null,
   "metadata": {},
   "outputs": [],
   "source": [
    "## Please Run When You're Done!\n",
    "import IPython\n",
    "app = IPython.Application.instance()\n",
    "app.kernel.do_shutdown(True)"
   ]
  }
 ],
 "metadata": {
  "colab": {
   "provenance": [
    {
     "file_id": "1Mc3Vnp9Uhn3-J_yK8QsQRtnQEf6xgTmT",
     "timestamp": 1694359379674
    },
    {
     "file_id": "1u9gcXs58VPBKEE0ItHeRLP0uP-wmTO8I",
     "timestamp": 1694318698209
    },
    {
     "file_id": "16SWgOvVC9HUbtGzlmYWABbO2WXQaWN_w",
     "timestamp": 1694313364012
    }
   ]
  },
  "kernelspec": {
   "display_name": "Python 3 (ipykernel)",
   "language": "python",
   "name": "python3"
  },
  "language_info": {
   "codemirror_mode": {
    "name": "ipython",
    "version": 3
   },
   "file_extension": ".py",
   "mimetype": "text/x-python",
   "name": "python",
   "nbconvert_exporter": "python",
   "pygments_lexer": "ipython3",
   "version": "3.11.7"
  },
  "widgets": {
   "application/vnd.jupyter.widget-state+json": {
    "07c61f5fa45842e19156067d4055c0bb": {
     "model_module": "@jupyter-widgets/controls",
     "model_module_version": "1.5.0",
     "model_name": "DescriptionStyleModel",
     "state": {
      "_model_module": "@jupyter-widgets/controls",
      "_model_module_version": "1.5.0",
      "_model_name": "DescriptionStyleModel",
      "_view_count": null,
      "_view_module": "@jupyter-widgets/base",
      "_view_module_version": "1.2.0",
      "_view_name": "StyleView",
      "description_width": ""
     }
    },
    "0afbfc6656cc4805a588fcc77b29ac45": {
     "model_module": "@jupyter-widgets/controls",
     "model_module_version": "1.5.0",
     "model_name": "ProgressStyleModel",
     "state": {
      "_model_module": "@jupyter-widgets/controls",
      "_model_module_version": "1.5.0",
      "_model_name": "ProgressStyleModel",
      "_view_count": null,
      "_view_module": "@jupyter-widgets/base",
      "_view_module_version": "1.2.0",
      "_view_name": "StyleView",
      "bar_color": null,
      "description_width": ""
     }
    },
    "0c7af8fb4cb04ffd8b67be6bff90f53a": {
     "model_module": "@jupyter-widgets/base",
     "model_module_version": "1.2.0",
     "model_name": "LayoutModel",
     "state": {
      "_model_module": "@jupyter-widgets/base",
      "_model_module_version": "1.2.0",
      "_model_name": "LayoutModel",
      "_view_count": null,
      "_view_module": "@jupyter-widgets/base",
      "_view_module_version": "1.2.0",
      "_view_name": "LayoutView",
      "align_content": null,
      "align_items": null,
      "align_self": null,
      "border": null,
      "bottom": null,
      "display": null,
      "flex": null,
      "flex_flow": null,
      "grid_area": null,
      "grid_auto_columns": null,
      "grid_auto_flow": null,
      "grid_auto_rows": null,
      "grid_column": null,
      "grid_gap": null,
      "grid_row": null,
      "grid_template_areas": null,
      "grid_template_columns": null,
      "grid_template_rows": null,
      "height": null,
      "justify_content": null,
      "justify_items": null,
      "left": null,
      "margin": null,
      "max_height": null,
      "max_width": null,
      "min_height": null,
      "min_width": null,
      "object_fit": null,
      "object_position": null,
      "order": null,
      "overflow": null,
      "overflow_x": null,
      "overflow_y": null,
      "padding": null,
      "right": null,
      "top": null,
      "visibility": null,
      "width": null
     }
    },
    "0dc8b4f1b3f846a2870bacf7e475c875": {
     "model_module": "@jupyter-widgets/controls",
     "model_module_version": "1.5.0",
     "model_name": "DescriptionStyleModel",
     "state": {
      "_model_module": "@jupyter-widgets/controls",
      "_model_module_version": "1.5.0",
      "_model_name": "DescriptionStyleModel",
      "_view_count": null,
      "_view_module": "@jupyter-widgets/base",
      "_view_module_version": "1.2.0",
      "_view_name": "StyleView",
      "description_width": ""
     }
    },
    "0f033d878a154a3e9595e2b98748c6a4": {
     "model_module": "@jupyter-widgets/controls",
     "model_module_version": "1.5.0",
     "model_name": "DescriptionStyleModel",
     "state": {
      "_model_module": "@jupyter-widgets/controls",
      "_model_module_version": "1.5.0",
      "_model_name": "DescriptionStyleModel",
      "_view_count": null,
      "_view_module": "@jupyter-widgets/base",
      "_view_module_version": "1.2.0",
      "_view_name": "StyleView",
      "description_width": ""
     }
    },
    "1043eede14a046aa9c08fc5310a309ee": {
     "model_module": "@jupyter-widgets/controls",
     "model_module_version": "1.5.0",
     "model_name": "HTMLModel",
     "state": {
      "_dom_classes": [],
      "_model_module": "@jupyter-widgets/controls",
      "_model_module_version": "1.5.0",
      "_model_name": "HTMLModel",
      "_view_count": null,
      "_view_module": "@jupyter-widgets/controls",
      "_view_module_version": "1.5.0",
      "_view_name": "HTMLView",
      "description": "",
      "description_tooltip": null,
      "layout": "IPY_MODEL_87211ecf012f465ca61576405716f4ae",
      "placeholder": "​",
      "style": "IPY_MODEL_0f033d878a154a3e9595e2b98748c6a4",
      "value": "Downloading model.safetensors: 100%"
     }
    },
    "1e779860fad44264b25b1d0ccfcdb5c3": {
     "model_module": "@jupyter-widgets/controls",
     "model_module_version": "1.5.0",
     "model_name": "DescriptionStyleModel",
     "state": {
      "_model_module": "@jupyter-widgets/controls",
      "_model_module_version": "1.5.0",
      "_model_name": "DescriptionStyleModel",
      "_view_count": null,
      "_view_module": "@jupyter-widgets/base",
      "_view_module_version": "1.2.0",
      "_view_name": "StyleView",
      "description_width": ""
     }
    },
    "2a85d82c33e04d8b8ab62996afd45a78": {
     "model_module": "@jupyter-widgets/base",
     "model_module_version": "1.2.0",
     "model_name": "LayoutModel",
     "state": {
      "_model_module": "@jupyter-widgets/base",
      "_model_module_version": "1.2.0",
      "_model_name": "LayoutModel",
      "_view_count": null,
      "_view_module": "@jupyter-widgets/base",
      "_view_module_version": "1.2.0",
      "_view_name": "LayoutView",
      "align_content": null,
      "align_items": null,
      "align_self": null,
      "border": null,
      "bottom": null,
      "display": null,
      "flex": null,
      "flex_flow": null,
      "grid_area": null,
      "grid_auto_columns": null,
      "grid_auto_flow": null,
      "grid_auto_rows": null,
      "grid_column": null,
      "grid_gap": null,
      "grid_row": null,
      "grid_template_areas": null,
      "grid_template_columns": null,
      "grid_template_rows": null,
      "height": null,
      "justify_content": null,
      "justify_items": null,
      "left": null,
      "margin": null,
      "max_height": null,
      "max_width": null,
      "min_height": null,
      "min_width": null,
      "object_fit": null,
      "object_position": null,
      "order": null,
      "overflow": null,
      "overflow_x": null,
      "overflow_y": null,
      "padding": null,
      "right": null,
      "top": null,
      "visibility": null,
      "width": null
     }
    },
    "337a2cb3aaff41ee87246e4f1ba23826": {
     "model_module": "@jupyter-widgets/base",
     "model_module_version": "1.2.0",
     "model_name": "LayoutModel",
     "state": {
      "_model_module": "@jupyter-widgets/base",
      "_model_module_version": "1.2.0",
      "_model_name": "LayoutModel",
      "_view_count": null,
      "_view_module": "@jupyter-widgets/base",
      "_view_module_version": "1.2.0",
      "_view_name": "LayoutView",
      "align_content": null,
      "align_items": null,
      "align_self": null,
      "border": null,
      "bottom": null,
      "display": null,
      "flex": null,
      "flex_flow": null,
      "grid_area": null,
      "grid_auto_columns": null,
      "grid_auto_flow": null,
      "grid_auto_rows": null,
      "grid_column": null,
      "grid_gap": null,
      "grid_row": null,
      "grid_template_areas": null,
      "grid_template_columns": null,
      "grid_template_rows": null,
      "height": null,
      "justify_content": null,
      "justify_items": null,
      "left": null,
      "margin": null,
      "max_height": null,
      "max_width": null,
      "min_height": null,
      "min_width": null,
      "object_fit": null,
      "object_position": null,
      "order": null,
      "overflow": null,
      "overflow_x": null,
      "overflow_y": null,
      "padding": null,
      "right": null,
      "top": null,
      "visibility": null,
      "width": null
     }
    },
    "3a26403e3b0d4b19ba96291f985fb41c": {
     "model_module": "@jupyter-widgets/controls",
     "model_module_version": "1.5.0",
     "model_name": "DescriptionStyleModel",
     "state": {
      "_model_module": "@jupyter-widgets/controls",
      "_model_module_version": "1.5.0",
      "_model_name": "DescriptionStyleModel",
      "_view_count": null,
      "_view_module": "@jupyter-widgets/base",
      "_view_module_version": "1.2.0",
      "_view_name": "StyleView",
      "description_width": ""
     }
    },
    "41269f96f6e147c9a62b30e050230ae9": {
     "model_module": "@jupyter-widgets/controls",
     "model_module_version": "1.5.0",
     "model_name": "HTMLModel",
     "state": {
      "_dom_classes": [],
      "_model_module": "@jupyter-widgets/controls",
      "_model_module_version": "1.5.0",
      "_model_name": "HTMLModel",
      "_view_count": null,
      "_view_module": "@jupyter-widgets/controls",
      "_view_module_version": "1.5.0",
      "_view_name": "HTMLView",
      "description": "",
      "description_tooltip": null,
      "layout": "IPY_MODEL_df520fb7f428449dbcc76a7950656ebe",
      "placeholder": "​",
      "style": "IPY_MODEL_9f4130da5490446a9db325bf624360ec",
      "value": " 892M/892M [00:04&lt;00:00, 161MB/s]"
     }
    },
    "412ae74c61eb49bea9c3658858b50ea9": {
     "model_module": "@jupyter-widgets/controls",
     "model_module_version": "1.5.0",
     "model_name": "FloatProgressModel",
     "state": {
      "_dom_classes": [],
      "_model_module": "@jupyter-widgets/controls",
      "_model_module_version": "1.5.0",
      "_model_name": "FloatProgressModel",
      "_view_count": null,
      "_view_module": "@jupyter-widgets/controls",
      "_view_module_version": "1.5.0",
      "_view_name": "ProgressView",
      "bar_style": "success",
      "description": "",
      "description_tooltip": null,
      "layout": "IPY_MODEL_2a85d82c33e04d8b8ab62996afd45a78",
      "max": 1208,
      "min": 0,
      "orientation": "horizontal",
      "style": "IPY_MODEL_ccfb9137b09a4087b169e461c5dc8e0c",
      "value": 1208
     }
    },
    "48f31a3511be4aeab3a3568503898ff2": {
     "model_module": "@jupyter-widgets/base",
     "model_module_version": "1.2.0",
     "model_name": "LayoutModel",
     "state": {
      "_model_module": "@jupyter-widgets/base",
      "_model_module_version": "1.2.0",
      "_model_name": "LayoutModel",
      "_view_count": null,
      "_view_module": "@jupyter-widgets/base",
      "_view_module_version": "1.2.0",
      "_view_name": "LayoutView",
      "align_content": null,
      "align_items": null,
      "align_self": null,
      "border": null,
      "bottom": null,
      "display": null,
      "flex": null,
      "flex_flow": null,
      "grid_area": null,
      "grid_auto_columns": null,
      "grid_auto_flow": null,
      "grid_auto_rows": null,
      "grid_column": null,
      "grid_gap": null,
      "grid_row": null,
      "grid_template_areas": null,
      "grid_template_columns": null,
      "grid_template_rows": null,
      "height": null,
      "justify_content": null,
      "justify_items": null,
      "left": null,
      "margin": null,
      "max_height": null,
      "max_width": null,
      "min_height": null,
      "min_width": null,
      "object_fit": null,
      "object_position": null,
      "order": null,
      "overflow": null,
      "overflow_x": null,
      "overflow_y": null,
      "padding": null,
      "right": null,
      "top": null,
      "visibility": null,
      "width": null
     }
    },
    "4b699788e93e4b5281f550ee78ed0ddd": {
     "model_module": "@jupyter-widgets/controls",
     "model_module_version": "1.5.0",
     "model_name": "HTMLModel",
     "state": {
      "_dom_classes": [],
      "_model_module": "@jupyter-widgets/controls",
      "_model_module_version": "1.5.0",
      "_model_name": "HTMLModel",
      "_view_count": null,
      "_view_module": "@jupyter-widgets/controls",
      "_view_module_version": "1.5.0",
      "_view_name": "HTMLView",
      "description": "",
      "description_tooltip": null,
      "layout": "IPY_MODEL_a67f39d8379d4024957c8cd5dacbe5cb",
      "placeholder": "​",
      "style": "IPY_MODEL_b6f917a0813343aea573d1488ebc7b14",
      "value": "Downloading (…)/main/tokenizer.json: 100%"
     }
    },
    "5ca5fe70f60542bab3fcb8cd63a32596": {
     "model_module": "@jupyter-widgets/controls",
     "model_module_version": "1.5.0",
     "model_name": "HBoxModel",
     "state": {
      "_dom_classes": [],
      "_model_module": "@jupyter-widgets/controls",
      "_model_module_version": "1.5.0",
      "_model_name": "HBoxModel",
      "_view_count": null,
      "_view_module": "@jupyter-widgets/controls",
      "_view_module_version": "1.5.0",
      "_view_name": "HBoxView",
      "box_style": "",
      "children": [
       "IPY_MODEL_e822f482c82e45888cdea1043f0b946f",
       "IPY_MODEL_cac4e777e034464abbc7601f6c3e05bc",
       "IPY_MODEL_e933e87300a3461c86338eb6e7e4b152"
      ],
      "layout": "IPY_MODEL_dac3d16efe2a464db37e98f5d091193c"
     }
    },
    "625fbcb95f1241f2a528025115cccb23": {
     "model_module": "@jupyter-widgets/base",
     "model_module_version": "1.2.0",
     "model_name": "LayoutModel",
     "state": {
      "_model_module": "@jupyter-widgets/base",
      "_model_module_version": "1.2.0",
      "_model_name": "LayoutModel",
      "_view_count": null,
      "_view_module": "@jupyter-widgets/base",
      "_view_module_version": "1.2.0",
      "_view_name": "LayoutView",
      "align_content": null,
      "align_items": null,
      "align_self": null,
      "border": null,
      "bottom": null,
      "display": null,
      "flex": null,
      "flex_flow": null,
      "grid_area": null,
      "grid_auto_columns": null,
      "grid_auto_flow": null,
      "grid_auto_rows": null,
      "grid_column": null,
      "grid_gap": null,
      "grid_row": null,
      "grid_template_areas": null,
      "grid_template_columns": null,
      "grid_template_rows": null,
      "height": null,
      "justify_content": null,
      "justify_items": null,
      "left": null,
      "margin": null,
      "max_height": null,
      "max_width": null,
      "min_height": null,
      "min_width": null,
      "object_fit": null,
      "object_position": null,
      "order": null,
      "overflow": null,
      "overflow_x": null,
      "overflow_y": null,
      "padding": null,
      "right": null,
      "top": null,
      "visibility": null,
      "width": null
     }
    },
    "688beaaf66a34116825763ba491faf22": {
     "model_module": "@jupyter-widgets/controls",
     "model_module_version": "1.5.0",
     "model_name": "HTMLModel",
     "state": {
      "_dom_classes": [],
      "_model_module": "@jupyter-widgets/controls",
      "_model_module_version": "1.5.0",
      "_model_name": "HTMLModel",
      "_view_count": null,
      "_view_module": "@jupyter-widgets/controls",
      "_view_module_version": "1.5.0",
      "_view_name": "HTMLView",
      "description": "",
      "description_tooltip": null,
      "layout": "IPY_MODEL_8605b133811c409d9046bc666b142ce8",
      "placeholder": "​",
      "style": "IPY_MODEL_3a26403e3b0d4b19ba96291f985fb41c",
      "value": " 1.21k/1.21k [00:00&lt;00:00, 37.8kB/s]"
     }
    },
    "6ab7f00200014e96a5793d996d918dc5": {
     "model_module": "@jupyter-widgets/base",
     "model_module_version": "1.2.0",
     "model_name": "LayoutModel",
     "state": {
      "_model_module": "@jupyter-widgets/base",
      "_model_module_version": "1.2.0",
      "_model_name": "LayoutModel",
      "_view_count": null,
      "_view_module": "@jupyter-widgets/base",
      "_view_module_version": "1.2.0",
      "_view_name": "LayoutView",
      "align_content": null,
      "align_items": null,
      "align_self": null,
      "border": null,
      "bottom": null,
      "display": null,
      "flex": null,
      "flex_flow": null,
      "grid_area": null,
      "grid_auto_columns": null,
      "grid_auto_flow": null,
      "grid_auto_rows": null,
      "grid_column": null,
      "grid_gap": null,
      "grid_row": null,
      "grid_template_areas": null,
      "grid_template_columns": null,
      "grid_template_rows": null,
      "height": null,
      "justify_content": null,
      "justify_items": null,
      "left": null,
      "margin": null,
      "max_height": null,
      "max_width": null,
      "min_height": null,
      "min_width": null,
      "object_fit": null,
      "object_position": null,
      "order": null,
      "overflow": null,
      "overflow_x": null,
      "overflow_y": null,
      "padding": null,
      "right": null,
      "top": null,
      "visibility": null,
      "width": null
     }
    },
    "7b80c76e65e241bc9335afb6cb6f76e9": {
     "model_module": "@jupyter-widgets/controls",
     "model_module_version": "1.5.0",
     "model_name": "DescriptionStyleModel",
     "state": {
      "_model_module": "@jupyter-widgets/controls",
      "_model_module_version": "1.5.0",
      "_model_name": "DescriptionStyleModel",
      "_view_count": null,
      "_view_module": "@jupyter-widgets/base",
      "_view_module_version": "1.2.0",
      "_view_name": "StyleView",
      "description_width": ""
     }
    },
    "8605b133811c409d9046bc666b142ce8": {
     "model_module": "@jupyter-widgets/base",
     "model_module_version": "1.2.0",
     "model_name": "LayoutModel",
     "state": {
      "_model_module": "@jupyter-widgets/base",
      "_model_module_version": "1.2.0",
      "_model_name": "LayoutModel",
      "_view_count": null,
      "_view_module": "@jupyter-widgets/base",
      "_view_module_version": "1.2.0",
      "_view_name": "LayoutView",
      "align_content": null,
      "align_items": null,
      "align_self": null,
      "border": null,
      "bottom": null,
      "display": null,
      "flex": null,
      "flex_flow": null,
      "grid_area": null,
      "grid_auto_columns": null,
      "grid_auto_flow": null,
      "grid_auto_rows": null,
      "grid_column": null,
      "grid_gap": null,
      "grid_row": null,
      "grid_template_areas": null,
      "grid_template_columns": null,
      "grid_template_rows": null,
      "height": null,
      "justify_content": null,
      "justify_items": null,
      "left": null,
      "margin": null,
      "max_height": null,
      "max_width": null,
      "min_height": null,
      "min_width": null,
      "object_fit": null,
      "object_position": null,
      "order": null,
      "overflow": null,
      "overflow_x": null,
      "overflow_y": null,
      "padding": null,
      "right": null,
      "top": null,
      "visibility": null,
      "width": null
     }
    },
    "87211ecf012f465ca61576405716f4ae": {
     "model_module": "@jupyter-widgets/base",
     "model_module_version": "1.2.0",
     "model_name": "LayoutModel",
     "state": {
      "_model_module": "@jupyter-widgets/base",
      "_model_module_version": "1.2.0",
      "_model_name": "LayoutModel",
      "_view_count": null,
      "_view_module": "@jupyter-widgets/base",
      "_view_module_version": "1.2.0",
      "_view_name": "LayoutView",
      "align_content": null,
      "align_items": null,
      "align_self": null,
      "border": null,
      "bottom": null,
      "display": null,
      "flex": null,
      "flex_flow": null,
      "grid_area": null,
      "grid_auto_columns": null,
      "grid_auto_flow": null,
      "grid_auto_rows": null,
      "grid_column": null,
      "grid_gap": null,
      "grid_row": null,
      "grid_template_areas": null,
      "grid_template_columns": null,
      "grid_template_rows": null,
      "height": null,
      "justify_content": null,
      "justify_items": null,
      "left": null,
      "margin": null,
      "max_height": null,
      "max_width": null,
      "min_height": null,
      "min_width": null,
      "object_fit": null,
      "object_position": null,
      "order": null,
      "overflow": null,
      "overflow_x": null,
      "overflow_y": null,
      "padding": null,
      "right": null,
      "top": null,
      "visibility": null,
      "width": null
     }
    },
    "88e90d2702c94304955179e36e189d6a": {
     "model_module": "@jupyter-widgets/controls",
     "model_module_version": "1.5.0",
     "model_name": "HTMLModel",
     "state": {
      "_dom_classes": [],
      "_model_module": "@jupyter-widgets/controls",
      "_model_module_version": "1.5.0",
      "_model_name": "HTMLModel",
      "_view_count": null,
      "_view_module": "@jupyter-widgets/controls",
      "_view_module_version": "1.5.0",
      "_view_name": "HTMLView",
      "description": "",
      "description_tooltip": null,
      "layout": "IPY_MODEL_9f15ecb854e84457b4581199f4286b31",
      "placeholder": "​",
      "style": "IPY_MODEL_c44bae85439242da81b09de25e3dd6a9",
      "value": " 147/147 [00:00&lt;00:00, 6.84kB/s]"
     }
    },
    "90e353a41cf342bab3f56d754fa6917d": {
     "model_module": "@jupyter-widgets/base",
     "model_module_version": "1.2.0",
     "model_name": "LayoutModel",
     "state": {
      "_model_module": "@jupyter-widgets/base",
      "_model_module_version": "1.2.0",
      "_model_name": "LayoutModel",
      "_view_count": null,
      "_view_module": "@jupyter-widgets/base",
      "_view_module_version": "1.2.0",
      "_view_name": "LayoutView",
      "align_content": null,
      "align_items": null,
      "align_self": null,
      "border": null,
      "bottom": null,
      "display": null,
      "flex": null,
      "flex_flow": null,
      "grid_area": null,
      "grid_auto_columns": null,
      "grid_auto_flow": null,
      "grid_auto_rows": null,
      "grid_column": null,
      "grid_gap": null,
      "grid_row": null,
      "grid_template_areas": null,
      "grid_template_columns": null,
      "grid_template_rows": null,
      "height": null,
      "justify_content": null,
      "justify_items": null,
      "left": null,
      "margin": null,
      "max_height": null,
      "max_width": null,
      "min_height": null,
      "min_width": null,
      "object_fit": null,
      "object_position": null,
      "order": null,
      "overflow": null,
      "overflow_x": null,
      "overflow_y": null,
      "padding": null,
      "right": null,
      "top": null,
      "visibility": null,
      "width": null
     }
    },
    "93a6593a6f5d48fa82492cc964574063": {
     "model_module": "@jupyter-widgets/controls",
     "model_module_version": "1.5.0",
     "model_name": "ProgressStyleModel",
     "state": {
      "_model_module": "@jupyter-widgets/controls",
      "_model_module_version": "1.5.0",
      "_model_name": "ProgressStyleModel",
      "_view_count": null,
      "_view_module": "@jupyter-widgets/base",
      "_view_module_version": "1.2.0",
      "_view_name": "StyleView",
      "bar_color": null,
      "description_width": ""
     }
    },
    "9cb6bc84ce3548c88fdfee89ebd16027": {
     "model_module": "@jupyter-widgets/controls",
     "model_module_version": "1.5.0",
     "model_name": "HBoxModel",
     "state": {
      "_dom_classes": [],
      "_model_module": "@jupyter-widgets/controls",
      "_model_module_version": "1.5.0",
      "_model_name": "HBoxModel",
      "_view_count": null,
      "_view_module": "@jupyter-widgets/controls",
      "_view_module_version": "1.5.0",
      "_view_name": "HBoxView",
      "box_style": "",
      "children": [
       "IPY_MODEL_1043eede14a046aa9c08fc5310a309ee",
       "IPY_MODEL_c4c9b0a00763411f84251d2bd5ea4be7",
       "IPY_MODEL_41269f96f6e147c9a62b30e050230ae9"
      ],
      "layout": "IPY_MODEL_acbc3116f8e64e379e8325e1eb23408c"
     }
    },
    "9e9b6b8c170041bda5231cade5e11d48": {
     "model_module": "@jupyter-widgets/controls",
     "model_module_version": "1.5.0",
     "model_name": "HBoxModel",
     "state": {
      "_dom_classes": [],
      "_model_module": "@jupyter-widgets/controls",
      "_model_module_version": "1.5.0",
      "_model_name": "HBoxModel",
      "_view_count": null,
      "_view_module": "@jupyter-widgets/controls",
      "_view_module_version": "1.5.0",
      "_view_name": "HBoxView",
      "box_style": "",
      "children": [
       "IPY_MODEL_4b699788e93e4b5281f550ee78ed0ddd",
       "IPY_MODEL_de23c16f531c4d17bf5d8a1b82880183",
       "IPY_MODEL_fe545047949445b291f79d0c8a0cab4b"
      ],
      "layout": "IPY_MODEL_625fbcb95f1241f2a528025115cccb23"
     }
    },
    "9f15ecb854e84457b4581199f4286b31": {
     "model_module": "@jupyter-widgets/base",
     "model_module_version": "1.2.0",
     "model_name": "LayoutModel",
     "state": {
      "_model_module": "@jupyter-widgets/base",
      "_model_module_version": "1.2.0",
      "_model_name": "LayoutModel",
      "_view_count": null,
      "_view_module": "@jupyter-widgets/base",
      "_view_module_version": "1.2.0",
      "_view_name": "LayoutView",
      "align_content": null,
      "align_items": null,
      "align_self": null,
      "border": null,
      "bottom": null,
      "display": null,
      "flex": null,
      "flex_flow": null,
      "grid_area": null,
      "grid_auto_columns": null,
      "grid_auto_flow": null,
      "grid_auto_rows": null,
      "grid_column": null,
      "grid_gap": null,
      "grid_row": null,
      "grid_template_areas": null,
      "grid_template_columns": null,
      "grid_template_rows": null,
      "height": null,
      "justify_content": null,
      "justify_items": null,
      "left": null,
      "margin": null,
      "max_height": null,
      "max_width": null,
      "min_height": null,
      "min_width": null,
      "object_fit": null,
      "object_position": null,
      "order": null,
      "overflow": null,
      "overflow_x": null,
      "overflow_y": null,
      "padding": null,
      "right": null,
      "top": null,
      "visibility": null,
      "width": null
     }
    },
    "9f4130da5490446a9db325bf624360ec": {
     "model_module": "@jupyter-widgets/controls",
     "model_module_version": "1.5.0",
     "model_name": "DescriptionStyleModel",
     "state": {
      "_model_module": "@jupyter-widgets/controls",
      "_model_module_version": "1.5.0",
      "_model_name": "DescriptionStyleModel",
      "_view_count": null,
      "_view_module": "@jupyter-widgets/base",
      "_view_module_version": "1.2.0",
      "_view_name": "StyleView",
      "description_width": ""
     }
    },
    "a5b3b7a8120a44bdbe6144eb6d1ef3a3": {
     "model_module": "@jupyter-widgets/controls",
     "model_module_version": "1.5.0",
     "model_name": "HBoxModel",
     "state": {
      "_dom_classes": [],
      "_model_module": "@jupyter-widgets/controls",
      "_model_module_version": "1.5.0",
      "_model_name": "HBoxModel",
      "_view_count": null,
      "_view_module": "@jupyter-widgets/controls",
      "_view_module_version": "1.5.0",
      "_view_name": "HBoxView",
      "box_style": "",
      "children": [
       "IPY_MODEL_cd0109e8926d4e8f8f7264af1e174c1c",
       "IPY_MODEL_412ae74c61eb49bea9c3658858b50ea9",
       "IPY_MODEL_688beaaf66a34116825763ba491faf22"
      ],
      "layout": "IPY_MODEL_48f31a3511be4aeab3a3568503898ff2"
     }
    },
    "a67f39d8379d4024957c8cd5dacbe5cb": {
     "model_module": "@jupyter-widgets/base",
     "model_module_version": "1.2.0",
     "model_name": "LayoutModel",
     "state": {
      "_model_module": "@jupyter-widgets/base",
      "_model_module_version": "1.2.0",
      "_model_name": "LayoutModel",
      "_view_count": null,
      "_view_module": "@jupyter-widgets/base",
      "_view_module_version": "1.2.0",
      "_view_name": "LayoutView",
      "align_content": null,
      "align_items": null,
      "align_self": null,
      "border": null,
      "bottom": null,
      "display": null,
      "flex": null,
      "flex_flow": null,
      "grid_area": null,
      "grid_auto_columns": null,
      "grid_auto_flow": null,
      "grid_auto_rows": null,
      "grid_column": null,
      "grid_gap": null,
      "grid_row": null,
      "grid_template_areas": null,
      "grid_template_columns": null,
      "grid_template_rows": null,
      "height": null,
      "justify_content": null,
      "justify_items": null,
      "left": null,
      "margin": null,
      "max_height": null,
      "max_width": null,
      "min_height": null,
      "min_width": null,
      "object_fit": null,
      "object_position": null,
      "order": null,
      "overflow": null,
      "overflow_x": null,
      "overflow_y": null,
      "padding": null,
      "right": null,
      "top": null,
      "visibility": null,
      "width": null
     }
    },
    "acbc3116f8e64e379e8325e1eb23408c": {
     "model_module": "@jupyter-widgets/base",
     "model_module_version": "1.2.0",
     "model_name": "LayoutModel",
     "state": {
      "_model_module": "@jupyter-widgets/base",
      "_model_module_version": "1.2.0",
      "_model_name": "LayoutModel",
      "_view_count": null,
      "_view_module": "@jupyter-widgets/base",
      "_view_module_version": "1.2.0",
      "_view_name": "LayoutView",
      "align_content": null,
      "align_items": null,
      "align_self": null,
      "border": null,
      "bottom": null,
      "display": null,
      "flex": null,
      "flex_flow": null,
      "grid_area": null,
      "grid_auto_columns": null,
      "grid_auto_flow": null,
      "grid_auto_rows": null,
      "grid_column": null,
      "grid_gap": null,
      "grid_row": null,
      "grid_template_areas": null,
      "grid_template_columns": null,
      "grid_template_rows": null,
      "height": null,
      "justify_content": null,
      "justify_items": null,
      "left": null,
      "margin": null,
      "max_height": null,
      "max_width": null,
      "min_height": null,
      "min_width": null,
      "object_fit": null,
      "object_position": null,
      "order": null,
      "overflow": null,
      "overflow_x": null,
      "overflow_y": null,
      "padding": null,
      "right": null,
      "top": null,
      "visibility": null,
      "width": null
     }
    },
    "ad71c7b089574e9f97b341131cdd7735": {
     "model_module": "@jupyter-widgets/controls",
     "model_module_version": "1.5.0",
     "model_name": "HBoxModel",
     "state": {
      "_dom_classes": [],
      "_model_module": "@jupyter-widgets/controls",
      "_model_module_version": "1.5.0",
      "_model_name": "HBoxModel",
      "_view_count": null,
      "_view_module": "@jupyter-widgets/controls",
      "_view_module_version": "1.5.0",
      "_view_name": "HBoxView",
      "box_style": "",
      "children": [
       "IPY_MODEL_c492bf8ffe9e4823878f836fe63c081e",
       "IPY_MODEL_f108e13198ce4b979503bfde278a6040",
       "IPY_MODEL_88e90d2702c94304955179e36e189d6a"
      ],
      "layout": "IPY_MODEL_6ab7f00200014e96a5793d996d918dc5"
     }
    },
    "b05fb3775acf47d894871a3f95fe2fd6": {
     "model_module": "@jupyter-widgets/controls",
     "model_module_version": "1.5.0",
     "model_name": "DescriptionStyleModel",
     "state": {
      "_model_module": "@jupyter-widgets/controls",
      "_model_module_version": "1.5.0",
      "_model_name": "DescriptionStyleModel",
      "_view_count": null,
      "_view_module": "@jupyter-widgets/base",
      "_view_module_version": "1.2.0",
      "_view_name": "StyleView",
      "description_width": ""
     }
    },
    "b2c008e054eb4c3abadf3e7751e195c2": {
     "model_module": "@jupyter-widgets/base",
     "model_module_version": "1.2.0",
     "model_name": "LayoutModel",
     "state": {
      "_model_module": "@jupyter-widgets/base",
      "_model_module_version": "1.2.0",
      "_model_name": "LayoutModel",
      "_view_count": null,
      "_view_module": "@jupyter-widgets/base",
      "_view_module_version": "1.2.0",
      "_view_name": "LayoutView",
      "align_content": null,
      "align_items": null,
      "align_self": null,
      "border": null,
      "bottom": null,
      "display": null,
      "flex": null,
      "flex_flow": null,
      "grid_area": null,
      "grid_auto_columns": null,
      "grid_auto_flow": null,
      "grid_auto_rows": null,
      "grid_column": null,
      "grid_gap": null,
      "grid_row": null,
      "grid_template_areas": null,
      "grid_template_columns": null,
      "grid_template_rows": null,
      "height": null,
      "justify_content": null,
      "justify_items": null,
      "left": null,
      "margin": null,
      "max_height": null,
      "max_width": null,
      "min_height": null,
      "min_width": null,
      "object_fit": null,
      "object_position": null,
      "order": null,
      "overflow": null,
      "overflow_x": null,
      "overflow_y": null,
      "padding": null,
      "right": null,
      "top": null,
      "visibility": null,
      "width": null
     }
    },
    "b6f917a0813343aea573d1488ebc7b14": {
     "model_module": "@jupyter-widgets/controls",
     "model_module_version": "1.5.0",
     "model_name": "DescriptionStyleModel",
     "state": {
      "_model_module": "@jupyter-widgets/controls",
      "_model_module_version": "1.5.0",
      "_model_name": "DescriptionStyleModel",
      "_view_count": null,
      "_view_module": "@jupyter-widgets/base",
      "_view_module_version": "1.2.0",
      "_view_name": "StyleView",
      "description_width": ""
     }
    },
    "c0e882c8aa444dac8965fed6b124366b": {
     "model_module": "@jupyter-widgets/base",
     "model_module_version": "1.2.0",
     "model_name": "LayoutModel",
     "state": {
      "_model_module": "@jupyter-widgets/base",
      "_model_module_version": "1.2.0",
      "_model_name": "LayoutModel",
      "_view_count": null,
      "_view_module": "@jupyter-widgets/base",
      "_view_module_version": "1.2.0",
      "_view_name": "LayoutView",
      "align_content": null,
      "align_items": null,
      "align_self": null,
      "border": null,
      "bottom": null,
      "display": null,
      "flex": null,
      "flex_flow": null,
      "grid_area": null,
      "grid_auto_columns": null,
      "grid_auto_flow": null,
      "grid_auto_rows": null,
      "grid_column": null,
      "grid_gap": null,
      "grid_row": null,
      "grid_template_areas": null,
      "grid_template_columns": null,
      "grid_template_rows": null,
      "height": null,
      "justify_content": null,
      "justify_items": null,
      "left": null,
      "margin": null,
      "max_height": null,
      "max_width": null,
      "min_height": null,
      "min_width": null,
      "object_fit": null,
      "object_position": null,
      "order": null,
      "overflow": null,
      "overflow_x": null,
      "overflow_y": null,
      "padding": null,
      "right": null,
      "top": null,
      "visibility": null,
      "width": null
     }
    },
    "c44bae85439242da81b09de25e3dd6a9": {
     "model_module": "@jupyter-widgets/controls",
     "model_module_version": "1.5.0",
     "model_name": "DescriptionStyleModel",
     "state": {
      "_model_module": "@jupyter-widgets/controls",
      "_model_module_version": "1.5.0",
      "_model_name": "DescriptionStyleModel",
      "_view_count": null,
      "_view_module": "@jupyter-widgets/base",
      "_view_module_version": "1.2.0",
      "_view_name": "StyleView",
      "description_width": ""
     }
    },
    "c492bf8ffe9e4823878f836fe63c081e": {
     "model_module": "@jupyter-widgets/controls",
     "model_module_version": "1.5.0",
     "model_name": "HTMLModel",
     "state": {
      "_dom_classes": [],
      "_model_module": "@jupyter-widgets/controls",
      "_model_module_version": "1.5.0",
      "_model_name": "HTMLModel",
      "_view_count": null,
      "_view_module": "@jupyter-widgets/controls",
      "_view_module_version": "1.5.0",
      "_view_name": "HTMLView",
      "description": "",
      "description_tooltip": null,
      "layout": "IPY_MODEL_337a2cb3aaff41ee87246e4f1ba23826",
      "placeholder": "​",
      "style": "IPY_MODEL_0dc8b4f1b3f846a2870bacf7e475c875",
      "value": "Downloading (…)neration_config.json: 100%"
     }
    },
    "c4c9b0a00763411f84251d2bd5ea4be7": {
     "model_module": "@jupyter-widgets/controls",
     "model_module_version": "1.5.0",
     "model_name": "FloatProgressModel",
     "state": {
      "_dom_classes": [],
      "_model_module": "@jupyter-widgets/controls",
      "_model_module_version": "1.5.0",
      "_model_name": "FloatProgressModel",
      "_view_count": null,
      "_view_module": "@jupyter-widgets/controls",
      "_view_module_version": "1.5.0",
      "_view_name": "ProgressView",
      "bar_style": "success",
      "description": "",
      "description_tooltip": null,
      "layout": "IPY_MODEL_c0e882c8aa444dac8965fed6b124366b",
      "max": 891646390,
      "min": 0,
      "orientation": "horizontal",
      "style": "IPY_MODEL_e63ab680776747a9a37b1ae573da522d",
      "value": 891646390
     }
    },
    "cac4e777e034464abbc7601f6c3e05bc": {
     "model_module": "@jupyter-widgets/controls",
     "model_module_version": "1.5.0",
     "model_name": "FloatProgressModel",
     "state": {
      "_dom_classes": [],
      "_model_module": "@jupyter-widgets/controls",
      "_model_module_version": "1.5.0",
      "_model_name": "FloatProgressModel",
      "_view_count": null,
      "_view_module": "@jupyter-widgets/controls",
      "_view_module_version": "1.5.0",
      "_view_name": "ProgressView",
      "bar_style": "success",
      "description": "",
      "description_tooltip": null,
      "layout": "IPY_MODEL_d08ac1efa02443ac84151ce2ba3d54c0",
      "max": 791656,
      "min": 0,
      "orientation": "horizontal",
      "style": "IPY_MODEL_93a6593a6f5d48fa82492cc964574063",
      "value": 791656
     }
    },
    "ccfb9137b09a4087b169e461c5dc8e0c": {
     "model_module": "@jupyter-widgets/controls",
     "model_module_version": "1.5.0",
     "model_name": "ProgressStyleModel",
     "state": {
      "_model_module": "@jupyter-widgets/controls",
      "_model_module_version": "1.5.0",
      "_model_name": "ProgressStyleModel",
      "_view_count": null,
      "_view_module": "@jupyter-widgets/base",
      "_view_module_version": "1.2.0",
      "_view_name": "StyleView",
      "bar_color": null,
      "description_width": ""
     }
    },
    "cd0109e8926d4e8f8f7264af1e174c1c": {
     "model_module": "@jupyter-widgets/controls",
     "model_module_version": "1.5.0",
     "model_name": "HTMLModel",
     "state": {
      "_dom_classes": [],
      "_model_module": "@jupyter-widgets/controls",
      "_model_module_version": "1.5.0",
      "_model_name": "HTMLModel",
      "_view_count": null,
      "_view_module": "@jupyter-widgets/controls",
      "_view_module_version": "1.5.0",
      "_view_name": "HTMLView",
      "description": "",
      "description_tooltip": null,
      "layout": "IPY_MODEL_b2c008e054eb4c3abadf3e7751e195c2",
      "placeholder": "​",
      "style": "IPY_MODEL_7b80c76e65e241bc9335afb6cb6f76e9",
      "value": "Downloading (…)lve/main/config.json: 100%"
     }
    },
    "d08ac1efa02443ac84151ce2ba3d54c0": {
     "model_module": "@jupyter-widgets/base",
     "model_module_version": "1.2.0",
     "model_name": "LayoutModel",
     "state": {
      "_model_module": "@jupyter-widgets/base",
      "_model_module_version": "1.2.0",
      "_model_name": "LayoutModel",
      "_view_count": null,
      "_view_module": "@jupyter-widgets/base",
      "_view_module_version": "1.2.0",
      "_view_name": "LayoutView",
      "align_content": null,
      "align_items": null,
      "align_self": null,
      "border": null,
      "bottom": null,
      "display": null,
      "flex": null,
      "flex_flow": null,
      "grid_area": null,
      "grid_auto_columns": null,
      "grid_auto_flow": null,
      "grid_auto_rows": null,
      "grid_column": null,
      "grid_gap": null,
      "grid_row": null,
      "grid_template_areas": null,
      "grid_template_columns": null,
      "grid_template_rows": null,
      "height": null,
      "justify_content": null,
      "justify_items": null,
      "left": null,
      "margin": null,
      "max_height": null,
      "max_width": null,
      "min_height": null,
      "min_width": null,
      "object_fit": null,
      "object_position": null,
      "order": null,
      "overflow": null,
      "overflow_x": null,
      "overflow_y": null,
      "padding": null,
      "right": null,
      "top": null,
      "visibility": null,
      "width": null
     }
    },
    "d88d2802236846359d6d3f9b1fa68fa9": {
     "model_module": "@jupyter-widgets/base",
     "model_module_version": "1.2.0",
     "model_name": "LayoutModel",
     "state": {
      "_model_module": "@jupyter-widgets/base",
      "_model_module_version": "1.2.0",
      "_model_name": "LayoutModel",
      "_view_count": null,
      "_view_module": "@jupyter-widgets/base",
      "_view_module_version": "1.2.0",
      "_view_name": "LayoutView",
      "align_content": null,
      "align_items": null,
      "align_self": null,
      "border": null,
      "bottom": null,
      "display": null,
      "flex": null,
      "flex_flow": null,
      "grid_area": null,
      "grid_auto_columns": null,
      "grid_auto_flow": null,
      "grid_auto_rows": null,
      "grid_column": null,
      "grid_gap": null,
      "grid_row": null,
      "grid_template_areas": null,
      "grid_template_columns": null,
      "grid_template_rows": null,
      "height": null,
      "justify_content": null,
      "justify_items": null,
      "left": null,
      "margin": null,
      "max_height": null,
      "max_width": null,
      "min_height": null,
      "min_width": null,
      "object_fit": null,
      "object_position": null,
      "order": null,
      "overflow": null,
      "overflow_x": null,
      "overflow_y": null,
      "padding": null,
      "right": null,
      "top": null,
      "visibility": null,
      "width": null
     }
    },
    "dac3d16efe2a464db37e98f5d091193c": {
     "model_module": "@jupyter-widgets/base",
     "model_module_version": "1.2.0",
     "model_name": "LayoutModel",
     "state": {
      "_model_module": "@jupyter-widgets/base",
      "_model_module_version": "1.2.0",
      "_model_name": "LayoutModel",
      "_view_count": null,
      "_view_module": "@jupyter-widgets/base",
      "_view_module_version": "1.2.0",
      "_view_name": "LayoutView",
      "align_content": null,
      "align_items": null,
      "align_self": null,
      "border": null,
      "bottom": null,
      "display": null,
      "flex": null,
      "flex_flow": null,
      "grid_area": null,
      "grid_auto_columns": null,
      "grid_auto_flow": null,
      "grid_auto_rows": null,
      "grid_column": null,
      "grid_gap": null,
      "grid_row": null,
      "grid_template_areas": null,
      "grid_template_columns": null,
      "grid_template_rows": null,
      "height": null,
      "justify_content": null,
      "justify_items": null,
      "left": null,
      "margin": null,
      "max_height": null,
      "max_width": null,
      "min_height": null,
      "min_width": null,
      "object_fit": null,
      "object_position": null,
      "order": null,
      "overflow": null,
      "overflow_x": null,
      "overflow_y": null,
      "padding": null,
      "right": null,
      "top": null,
      "visibility": null,
      "width": null
     }
    },
    "de23c16f531c4d17bf5d8a1b82880183": {
     "model_module": "@jupyter-widgets/controls",
     "model_module_version": "1.5.0",
     "model_name": "FloatProgressModel",
     "state": {
      "_dom_classes": [],
      "_model_module": "@jupyter-widgets/controls",
      "_model_module_version": "1.5.0",
      "_model_name": "FloatProgressModel",
      "_view_count": null,
      "_view_module": "@jupyter-widgets/controls",
      "_view_module_version": "1.5.0",
      "_view_name": "ProgressView",
      "bar_style": "success",
      "description": "",
      "description_tooltip": null,
      "layout": "IPY_MODEL_ece679963bed4fffa680647163d1f37d",
      "max": 1389353,
      "min": 0,
      "orientation": "horizontal",
      "style": "IPY_MODEL_0afbfc6656cc4805a588fcc77b29ac45",
      "value": 1389353
     }
    },
    "df520fb7f428449dbcc76a7950656ebe": {
     "model_module": "@jupyter-widgets/base",
     "model_module_version": "1.2.0",
     "model_name": "LayoutModel",
     "state": {
      "_model_module": "@jupyter-widgets/base",
      "_model_module_version": "1.2.0",
      "_model_name": "LayoutModel",
      "_view_count": null,
      "_view_module": "@jupyter-widgets/base",
      "_view_module_version": "1.2.0",
      "_view_name": "LayoutView",
      "align_content": null,
      "align_items": null,
      "align_self": null,
      "border": null,
      "bottom": null,
      "display": null,
      "flex": null,
      "flex_flow": null,
      "grid_area": null,
      "grid_auto_columns": null,
      "grid_auto_flow": null,
      "grid_auto_rows": null,
      "grid_column": null,
      "grid_gap": null,
      "grid_row": null,
      "grid_template_areas": null,
      "grid_template_columns": null,
      "grid_template_rows": null,
      "height": null,
      "justify_content": null,
      "justify_items": null,
      "left": null,
      "margin": null,
      "max_height": null,
      "max_width": null,
      "min_height": null,
      "min_width": null,
      "object_fit": null,
      "object_position": null,
      "order": null,
      "overflow": null,
      "overflow_x": null,
      "overflow_y": null,
      "padding": null,
      "right": null,
      "top": null,
      "visibility": null,
      "width": null
     }
    },
    "e63ab680776747a9a37b1ae573da522d": {
     "model_module": "@jupyter-widgets/controls",
     "model_module_version": "1.5.0",
     "model_name": "ProgressStyleModel",
     "state": {
      "_model_module": "@jupyter-widgets/controls",
      "_model_module_version": "1.5.0",
      "_model_name": "ProgressStyleModel",
      "_view_count": null,
      "_view_module": "@jupyter-widgets/base",
      "_view_module_version": "1.2.0",
      "_view_name": "StyleView",
      "bar_color": null,
      "description_width": ""
     }
    },
    "e822f482c82e45888cdea1043f0b946f": {
     "model_module": "@jupyter-widgets/controls",
     "model_module_version": "1.5.0",
     "model_name": "HTMLModel",
     "state": {
      "_dom_classes": [],
      "_model_module": "@jupyter-widgets/controls",
      "_model_module_version": "1.5.0",
      "_model_name": "HTMLModel",
      "_view_count": null,
      "_view_module": "@jupyter-widgets/controls",
      "_view_module_version": "1.5.0",
      "_view_name": "HTMLView",
      "description": "",
      "description_tooltip": null,
      "layout": "IPY_MODEL_fdd4ca3271354bfe86245737ca650e22",
      "placeholder": "​",
      "style": "IPY_MODEL_1e779860fad44264b25b1d0ccfcdb5c3",
      "value": "Downloading (…)ve/main/spiece.model: 100%"
     }
    },
    "e933e87300a3461c86338eb6e7e4b152": {
     "model_module": "@jupyter-widgets/controls",
     "model_module_version": "1.5.0",
     "model_name": "HTMLModel",
     "state": {
      "_dom_classes": [],
      "_model_module": "@jupyter-widgets/controls",
      "_model_module_version": "1.5.0",
      "_model_name": "HTMLModel",
      "_view_count": null,
      "_view_module": "@jupyter-widgets/controls",
      "_view_module_version": "1.5.0",
      "_view_name": "HTMLView",
      "description": "",
      "description_tooltip": null,
      "layout": "IPY_MODEL_d88d2802236846359d6d3f9b1fa68fa9",
      "placeholder": "​",
      "style": "IPY_MODEL_b05fb3775acf47d894871a3f95fe2fd6",
      "value": " 792k/792k [00:00&lt;00:00, 1.02MB/s]"
     }
    },
    "ece679963bed4fffa680647163d1f37d": {
     "model_module": "@jupyter-widgets/base",
     "model_module_version": "1.2.0",
     "model_name": "LayoutModel",
     "state": {
      "_model_module": "@jupyter-widgets/base",
      "_model_module_version": "1.2.0",
      "_model_name": "LayoutModel",
      "_view_count": null,
      "_view_module": "@jupyter-widgets/base",
      "_view_module_version": "1.2.0",
      "_view_name": "LayoutView",
      "align_content": null,
      "align_items": null,
      "align_self": null,
      "border": null,
      "bottom": null,
      "display": null,
      "flex": null,
      "flex_flow": null,
      "grid_area": null,
      "grid_auto_columns": null,
      "grid_auto_flow": null,
      "grid_auto_rows": null,
      "grid_column": null,
      "grid_gap": null,
      "grid_row": null,
      "grid_template_areas": null,
      "grid_template_columns": null,
      "grid_template_rows": null,
      "height": null,
      "justify_content": null,
      "justify_items": null,
      "left": null,
      "margin": null,
      "max_height": null,
      "max_width": null,
      "min_height": null,
      "min_width": null,
      "object_fit": null,
      "object_position": null,
      "order": null,
      "overflow": null,
      "overflow_x": null,
      "overflow_y": null,
      "padding": null,
      "right": null,
      "top": null,
      "visibility": null,
      "width": null
     }
    },
    "f108e13198ce4b979503bfde278a6040": {
     "model_module": "@jupyter-widgets/controls",
     "model_module_version": "1.5.0",
     "model_name": "FloatProgressModel",
     "state": {
      "_dom_classes": [],
      "_model_module": "@jupyter-widgets/controls",
      "_model_module_version": "1.5.0",
      "_model_name": "FloatProgressModel",
      "_view_count": null,
      "_view_module": "@jupyter-widgets/controls",
      "_view_module_version": "1.5.0",
      "_view_name": "ProgressView",
      "bar_style": "success",
      "description": "",
      "description_tooltip": null,
      "layout": "IPY_MODEL_90e353a41cf342bab3f56d754fa6917d",
      "max": 147,
      "min": 0,
      "orientation": "horizontal",
      "style": "IPY_MODEL_f526829ec1d345c38cc55c47b0a687d5",
      "value": 147
     }
    },
    "f526829ec1d345c38cc55c47b0a687d5": {
     "model_module": "@jupyter-widgets/controls",
     "model_module_version": "1.5.0",
     "model_name": "ProgressStyleModel",
     "state": {
      "_model_module": "@jupyter-widgets/controls",
      "_model_module_version": "1.5.0",
      "_model_name": "ProgressStyleModel",
      "_view_count": null,
      "_view_module": "@jupyter-widgets/base",
      "_view_module_version": "1.2.0",
      "_view_name": "StyleView",
      "bar_color": null,
      "description_width": ""
     }
    },
    "fdd4ca3271354bfe86245737ca650e22": {
     "model_module": "@jupyter-widgets/base",
     "model_module_version": "1.2.0",
     "model_name": "LayoutModel",
     "state": {
      "_model_module": "@jupyter-widgets/base",
      "_model_module_version": "1.2.0",
      "_model_name": "LayoutModel",
      "_view_count": null,
      "_view_module": "@jupyter-widgets/base",
      "_view_module_version": "1.2.0",
      "_view_name": "LayoutView",
      "align_content": null,
      "align_items": null,
      "align_self": null,
      "border": null,
      "bottom": null,
      "display": null,
      "flex": null,
      "flex_flow": null,
      "grid_area": null,
      "grid_auto_columns": null,
      "grid_auto_flow": null,
      "grid_auto_rows": null,
      "grid_column": null,
      "grid_gap": null,
      "grid_row": null,
      "grid_template_areas": null,
      "grid_template_columns": null,
      "grid_template_rows": null,
      "height": null,
      "justify_content": null,
      "justify_items": null,
      "left": null,
      "margin": null,
      "max_height": null,
      "max_width": null,
      "min_height": null,
      "min_width": null,
      "object_fit": null,
      "object_position": null,
      "order": null,
      "overflow": null,
      "overflow_x": null,
      "overflow_y": null,
      "padding": null,
      "right": null,
      "top": null,
      "visibility": null,
      "width": null
     }
    },
    "fe545047949445b291f79d0c8a0cab4b": {
     "model_module": "@jupyter-widgets/controls",
     "model_module_version": "1.5.0",
     "model_name": "HTMLModel",
     "state": {
      "_dom_classes": [],
      "_model_module": "@jupyter-widgets/controls",
      "_model_module_version": "1.5.0",
      "_model_name": "HTMLModel",
      "_view_count": null,
      "_view_module": "@jupyter-widgets/controls",
      "_view_module_version": "1.5.0",
      "_view_name": "HTMLView",
      "description": "",
      "description_tooltip": null,
      "layout": "IPY_MODEL_0c7af8fb4cb04ffd8b67be6bff90f53a",
      "placeholder": "​",
      "style": "IPY_MODEL_07c61f5fa45842e19156067d4055c0bb",
      "value": " 1.39M/1.39M [00:00&lt;00:00, 1.43MB/s]"
     }
    }
   }
  }
 },
 "nbformat": 4,
 "nbformat_minor": 4
}
