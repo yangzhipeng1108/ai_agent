{
 "cells": [
  {
   "cell_type": "markdown",
   "metadata": {},
   "source": [
    "<center><a href=\"https://www.nvidia.cn/training/\"><img src=\"https://dli-lms.s3.amazonaws.com/assets/general/DLI_Header_White.png\" width=\"400\" height=\"186\" /></a></center>"
   ]
  },
  {
   "cell_type": "markdown",
   "metadata": {},
   "source": [
    "JupyterLab\n",
    "==========\n",
    "\n",
    "\n",
    "在本实战实验中，我们使用 [JupyterLab](https://jupyterlab.readthedocs.io/en/stable/) 来管理我们的环境。[JupyterLab 界面](https://jupyterlab.readthedocs.io/en/stable/user/interface.html)是一个控制面板，可用于访问交互式 iPython Notebook、环境的文件夹结构以及 Ubuntu 操作系统的终端窗口。您将看到的第一个视图包括顶部的菜单栏、左侧边栏中的文件浏览器，以及最初打开“Launcher”页面的主工作区。\n",
    "\n",
    "![](imgs/jl_launcher.png)\n",
    "文件浏览器可以像任何其他文件浏览器一样进行导航。双击任何项目将打开包含其内容的新选项卡。\n",
    "\n",
    "主工作区域包括打开文件的选项卡式视图，可以根据需要关闭、移动和编辑这些文件。\n",
    "\n",
    "Notebook (包括此 Notebook)由一系列内容单元和代码单元组成。要在代码单元中执行代码，请按 `Shift+Enter` 或单击上方菜单栏中的“Run”(运行)按钮，同时突出显示单元。有时，内容单元会切换到编辑模式。按下 `Shift+Enter` 将其切换回可读的形式。\n",
    "\n",
    "尝试在以下单元中执行简单的 print 语句。"
   ]
  },
  {
   "cell_type": "code",
   "execution_count": null,
   "metadata": {},
   "outputs": [],
   "source": [
    "# Highlight this cell and click [Shift+Enter] to execute\n",
    "print('This is just a simple print statement')"
   ]
  },
  {
   "cell_type": "markdown",
   "metadata": {},
   "source": [
    "清除 GPU 显存\n",
    "---------\n",
    "\n",
    "\n"
   ]
  },
  {
   "cell_type": "markdown",
   "metadata": {},
   "source": [
    "有时，您需要清除 GPU 显存，以便在实验出错时重置 GPU 状态，或者在笔记本之间需要重新开始一组新练习时重置 GPU 状态。\n",
    "\n",
    "清除 GPU 显存的主要方法有 3 种。\n",
    "\n",
    "1. 【Soft Reset】使用 Notebook 上方菜单上的+按钮重置当前选项卡的内核。\n",
    "2. 【Hard Stop】左侧内核菜单中文件浏览器下方的方形圆图标包含已打开的内核。关闭这些内核将难以停止计算资源。\n",
    "3. 【Soft Reset】通过我们将在每个 Notebook 结束时提供的代码单元。\n",
    "\n",
    "下面是其中一个单元，您可以运行这些单元来培养正确的习惯。"
   ]
  },
  {
   "cell_type": "code",
   "execution_count": null,
   "metadata": {},
   "outputs": [],
   "source": [
    "import IPython\n",
    "app = IPython.Application.instance()\n",
    "app.kernel.do_shutdown(True)"
   ]
  },
  {
   "cell_type": "markdown",
   "metadata": {},
   "source": [
    "最后一种方法是使用左侧的核函数菜单，即带有光方形的黑暗圆圈。虽然前两种策略可能被认为是“软”重置，但这更像是强制“硬”停止。\n",
    "\n",
    "\n"
   ]
  },
  {
   "cell_type": "markdown",
   "metadata": {},
   "source": [
    "<center><a href=\"https://www.nvidia.cn/training/\"><img src=\"https://dli-lms.s3.amazonaws.com/assets/general/DLI_Header_White.png\" width=\"400\" height=\"186\" /></a></center>"
   ]
  }
 ],
 "metadata": {
  "kernelspec": {
   "display_name": "Python 3 (ipykernel)",
   "language": "python",
   "name": "python3"
  },
  "language_info": {
   "codemirror_mode": {
    "name": "ipython",
    "version": 3
   },
   "file_extension": ".py",
   "mimetype": "text/x-python",
   "name": "python",
   "nbconvert_exporter": "python",
   "pygments_lexer": "ipython3",
   "version": "3.11.5"
  }
 },
 "nbformat": 4,
 "nbformat_minor": 4
}
